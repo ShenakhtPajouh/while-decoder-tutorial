{
 "cells": [
  {
   "cell_type": "markdown",
   "metadata": {},
   "source": [
    "<div style=\"direction:rtl;line-height:300%;\">\n",
    "\t<font face=\"XB Zar\" size=5>\n",
    "\t\t<div align=center>\n",
    "\t\t\t<font face=\"IranNastaliq\" size=30>\n",
    "\t\t\t\t<p></p>\n",
    "\t\t\t\t<p></p>\n",
    "به نام خدا\n",
    "\t\t\t\t<p></p>\n",
    "\t\t\t</font>\n",
    "\t\t\t<p></p>\n",
    "\t\t\t<font color=blue>\n",
    "پروژه ی filler\n",
    "            </font>\n",
    "\t\t\t<br />\n",
    "\t\t\t<br />\n",
    "دی ماه 97\n",
    "\t\t</div>\n",
    "\t\t<hr/>\n",
    "\t\t<font color=red size=6>\n",
    "\t\t\t<br />\n",
    "\t\t\t<div align=center>\n",
    "decoders\n",
    "            </div>        \n",
    "\t\t</font>\n",
    "\t\t<br />\n",
    "\t\t<div align=center>\n",
    " مهدی غزنوی\n",
    "        </div>\n",
    "\t\t<hr />\n",
    "\t\t<style type=\"text/css\" scoped>\n",
    "        p{\n",
    "        border: 1px solid #a2a9b1;background-color: #f8f9fa;display: inline-block;\n",
    "        };\n",
    "        </style>\n",
    "\t</font>\n",
    "</div>"
   ]
  },
  {
   "cell_type": "markdown",
   "metadata": {},
   "source": [
    "<div style=\"direction:rtl;line-height:300%;\">\n",
    "    <font face=\"XB Zar\" size=5>\n",
    "        ما دو ابزار اساسی برای اجرای عملیات بر روی sequenceها به طور dynamic در tensorflow داریم.\n",
    "        یکی <a href=\"https://www.tensorflow.org/api_docs/python/tf/nn/dynamic_rnn\">dynamic rnn</a> و دیگری <a href=\"https://www.tensorflow.org/api_docs/python/tf/contrib/seq2seq/dynamic_decode\">dynamic decode</a>.\n",
    "        در ادامه قابلیت های هرکدام از این دو را مورد بررسی قرار می دهیم.\n",
    "    </font> \n",
    "</div>"
   ]
  },
  {
   "cell_type": "markdown",
   "metadata": {},
   "source": [
    "<div style=\"direction:ltr;line-height:300%;\">\n",
    "    <font face=\"XB Zar\" size=6>\n",
    "        dynamic decode\n",
    "    </font> \n",
    "</div>"
   ]
  },
  {
   "cell_type": "markdown",
   "metadata": {},
   "source": [
    "<div style=\"direction:rtl;line-height:300%;\">\n",
    "    <font face=\"XB Zar\" size=5>\n",
    "decoderها ابزار اصلی استفاده از dynamic decode هستند. dynamic decode به عنوان ورودی یک decoder دریافت می کند، سپس تابع initialize آن را صدا می زند و بعد از آن در هر مرحله تابع step دیکودر توسط dynamic decode صدا زده می شود.\n",
    "<br/>\n",
    "پس از پایان پروسه ی decoding، خروجی dynamic decode به صورت \n",
    "    <br/>(final_outputs, final_state, final_sequence_length) \n",
    "    <br/>\n",
    "    خواهد بود. \n",
    "    </font> \n",
    "</div>"
   ]
  },
  {
   "cell_type": "code",
   "execution_count": null,
   "metadata": {},
   "outputs": [],
   "source": [
    "tf.contrib.seq2seq.dynamic_decode(\n",
    "    decoder,\n",
    "    output_time_major=False,\n",
    "    impute_finished=False,\n",
    "    maximum_iterations=None,\n",
    "    parallel_iterations=32,\n",
    "    swap_memory=False,\n",
    "    scope=None\n",
    ")"
   ]
  },
  {
   "cell_type": "markdown",
   "metadata": {},
   "source": [
    "<div style=\"direction:rtl;line-height:300%;\">\n",
    "    <font face=\"XB Zar\" size=5>\n",
    "        در ورودی تابع اگر impute_finished را برابر True قرار دهیم پس از اتمام decoding یک sample تا زمان اتمام decoding بقیه sampleهای batch خروجی را برابر 0 و state را برابر آخرین state پیش از اتمام sample قرار می دهد.\n",
    "    </font> \n",
    "</div>"
   ]
  },
  {
   "cell_type": "code",
   "execution_count": null,
   "metadata": {},
   "outputs": [],
   "source": []
  },
  {
   "cell_type": "markdown",
   "metadata": {},
   "source": [
    "<div style=\"direction:rtl;line-height:300%;\">\n",
    "    <font face=\"XB Zar\" size=5>\n",
    "        final_outputs یک tensor با بعد r+1 است در صورتی که بعد خروجی هر مرحله برابر r باشد. در واقع final_outputs، تنسور stack شده ی tensorArrayای است که عضو iام آن خروجی مرحله ی iام decoding است.\n",
    "    </font> \n",
    "</div>"
   ]
  },
  {
   "cell_type": "markdown",
   "metadata": {},
   "source": [
    "<div style=\"direction:rtl;line-height:300%;\">\n",
    "    <font face=\"XB Zar\" size=5>\n",
    "        حال به خود decoderها می پردازیم.\n",
    "        <br/>\n",
    "        interfaceی به نام Decoder در tensorflow وجود دارد که کلاس هایی که آن را implement می کنند می بایست سه تابع زیر را پیاده سازی کنند.\n",
    "        <ul style=\"direction:ltr\">\n",
    "            <li> initialize(name=None)</li>\n",
    "            <li> step(time, inputs, state, name=None)</li>\n",
    "            <li> finalize(outputs, final_state, sequence_length) </li>\n",
    "        </ul>\n",
    "  \n",
    "    </font> \n",
    "</div>"
   ]
  },
  {
   "cell_type": "markdown",
   "metadata": {},
   "source": [
    "<div style=\"direction:rtl;line-height:300%;\">\n",
    "    <font face=\"XB Zar\" size=5>\n",
    "        initialize:<br/>\n",
    "        پیش از شروع decoding صدا زده می شود و ورودی و state اولیه  که در مرحله ی بعد به تابع step  داده می شود را به عنوان خروجی باز می گرداند. همچنین به عنوان خروجی مشخص می کند که آیا decoding به اتمام رسیده(\n",
    "        طول خرجی 0 است) یا خیر.\n",
    "        <br/>\n",
    "        خروجی آن به صورت رو به رو است:\n",
    "            (finished, initial_inputs, initial_state)\n",
    "        \n",
    "    </font> \n",
    "</div>"
   ]
  },
  {
   "cell_type": "markdown",
   "metadata": {},
   "source": [
    "<div id=\"decoder_output\" style=\"direction:rtl;line-height:300%;\">\n",
    "    <font face=\"XB Zar\" size=5>\n",
    "        step:<br/>\n",
    "        در هر مرحله ی decoding صدا زده می شود و خروجی آن مرحله، ورودی مرحله ی بعدی، state بعدی و اینکه آیا decoding به پایان رسیده است یا خیر را مشخص می کند.\n",
    "        <br/>\n",
    "        خروجی این تابع به صورت رو به رو است: (outputs, next_state, next_inputs, finished)\n",
    "        \n",
    "    </font> \n",
    "</div>"
   ]
  },
  {
   "cell_type": "markdown",
   "metadata": {},
   "source": [
    "<div style=\"direction:rtl;line-height:300%;\">\n",
    "    <font face=\"XB Zar\" size=5>\n",
    "        finalize:<br/>\n",
    "        زمانی که finished در خروجی تابع step برابر با یک شد، decoding برای آن نمونه به اتمام رسیده است. در این زمان تابع finalize دیکودر با ورودی های مذکور فراخوانده می شود تا خروجی و state نهایی decoding را مشخص کند.\n",
    "        خروجی این تابع می بایست به صورت (final_outputs, final_state) باشد.\n",
    "        <br/>\n",
    "        نکته ی مهم این است که برخی از decoder هایی که خود tensorflow نیز پیاده سازی کرده این تابع را ندارند و در استفاده از آنها مشکلی نیز پیش نمی آید. علت این است که تابع dynamic_decode در بلوک try-catch قرار داده شده و اگر دیکودر مورد استفاده ی dynamic_decode تابع finalize را پیاده سازی نکرده بود، state آخرین مرحله ی decoding به عنوان final_state و یک tensoerArray به صورتی که درایه ی iاُم آن خروجی مرحله ی iاُم decoding است به عنوان final_outputs در خروجی dynamic_decode قرار می گیرد.\n",
    "    </font> \n",
    "</div>"
   ]
  },
  {
   "cell_type": "markdown",
   "metadata": {},
   "source": [
    "<div style=\"direction:rtl;line-height:300%;\">\n",
    "    <font face=\"XB Zar\" size=5>\n",
    "        <b>دیکودرهای تنسورفلو</b>\n",
    "        <br/>\n",
    "        اصول دیکودرها و dynamic decoding در tensorflow مطالب گفته شده در بالا است. tensorflow با نوشتن دو دیکودر کار ما را ساده تر کرده است. این دو دیکودر BasicDecoder و BeamSearchDecoder اند.\n",
    "        <br/>\n",
    "        حال به صورت جداگانه این دو را بررسی می کنیم.\n",
    "    </font> \n",
    "</div>"
   ]
  },
  {
   "cell_type": "markdown",
   "metadata": {},
   "source": [
    "<div style=\"direction:rtl;line-height:300%;\">\n",
    "    <font face=\"XB Zar\" size=5>\n",
    "        <b>BasicDecoder</b>\n",
    "        <br/>\n",
    "        شاید پراستفاده ترین decodingی که مورد استفاده قرار می گیرد به این صورت است که مشابه RNN ورودی و state مرحله ی قبل به یک RNN cell خروجی آن مرحله را  را برای آن مرحله از decoding به دست آوریم.\n",
    "        <br/>\n",
    "        تعریف تابع initializer این کلاس را در زیر مشاهده می کنید.\n",
    "    </font> \n",
    "</div>"
   ]
  },
  {
   "cell_type": "code",
   "execution_count": 11,
   "metadata": {},
   "outputs": [],
   "source": [
    "def __init__(self, cell, helper, initial_state, output_layer=None):\n",
    "    \"\"\"Initialize BasicDecoder.\n",
    "\n",
    "    Args:\n",
    "      cell: An `RNNCell` instance.\n",
    "      helper: A `Helper` instance.\n",
    "      initial_state: A (possibly nested tuple of...) tensors and TensorArrays.\n",
    "        The initial state of the RNNCell.\n",
    "      output_layer: (Optional) An instance of `tf.layers.Layer`, i.e.,\n",
    "        `tf.layers.Dense`. Optional layer to apply to the RNN output prior\n",
    "        to storing the result or sampling.\n",
    "\n",
    "    Raises:\n",
    "      TypeError: if `cell`, `helper` or `output_layer` have an incorrect type.\n",
    "    \"\"\"\n",
    "    pass"
   ]
  },
  {
   "cell_type": "markdown",
   "metadata": {},
   "source": [
    "<div style=\"direction:rtl;line-height:300%;\">\n",
    "    <font face=\"XB Zar\" size=5>\n",
    "        تابع finalize در BasicDecoder پیاده سازی نشده است.\n",
    "        <br/>\n",
    "        در توابع initialize و step این دیکودر از کلاسی به اسم <b>helper</b> استفاده می شود. helper کلاسی است که قابلیت استفاده از BasicDecoder را چنانکه در ادامه توضیح می دهیم افزایش می دهد. عملکرد دو تابع مذکور بدین صورت است که با استفاده از توابعی در helper خروجی های مد نظر را تولید می کند. در واقع helper در تولید خروجی ها به توابع BasicDecoder کمک می کند.\n",
    "        <br/>\n",
    "        کلاس Helper کلاسی است که هر helperی باید از توابع آن را implement کند. thank's tensorflow کلاسی داریم به نام CustomHelper! این کلاس با ورودی گرفتن سه تابع اصلی helper، یک instance از Helper به ما خواهد داد. این سه تابع اصلی موارد زیرند:\n",
    "    </font> \n",
    "</div>"
   ]
  },
  {
   "cell_type": "code",
   "execution_count": 12,
   "metadata": {},
   "outputs": [],
   "source": [
    "import six\n",
    "@six.add_metaclass(abc.ABCMeta)\n",
    "class Helper(object):\n",
    "    \"\"\"Interface for implementing sampling in seq2seq decoders.\n",
    "\n",
    "    Helper instances are used by `BasicDecoder`.\n",
    "    \"\"\"\n",
    "    @abc.abstractmethod\n",
    "    def initialize(self, name=None):\n",
    "        \"\"\"Returns `(initial_finished, initial_inputs)`.\"\"\"\n",
    "        pass\n",
    "    \n",
    "    @abc.abstractmethod\n",
    "    def sample(self, time, outputs, state, name=None):\n",
    "        \"\"\"Returns `sample_ids`.\"\"\"\n",
    "        pass\n",
    "    \n",
    "    @abc.abstractmethod\n",
    "    def next_inputs(self, time, outputs, state, sample_ids, name=None):\n",
    "        \"\"\"Returns `(finished, next_inputs, next_state)`.\"\"\"\n",
    "        pass"
   ]
  },
  {
   "cell_type": "markdown",
   "metadata": {},
   "source": [
    "<div style=\"direction:rtl;line-height:300%;\">\n",
    "    <font face=\"XB Zar\" size=5>\n",
    "        کافی است این سه تابع را پیاده سازی کرده و به عنوان ورودی به ترتیب بالا به کلاس CustomHelper بدهیم تا یک Helper داشته باشیم:)\n",
    "        <br/>\n",
    "        initializer این کلاس را در زیر مشاهده می کنید:\n",
    "    </font> \n",
    "</div>"
   ]
  },
  {
   "cell_type": "code",
   "execution_count": 14,
   "metadata": {},
   "outputs": [],
   "source": [
    "def __init__(self, initialize_fn, sample_fn, next_inputs_fn,\n",
    "               sample_ids_shape=None, sample_ids_dtype=None):\n",
    "    \"\"\"Initializer.\n",
    "\n",
    "    Args:\n",
    "      initialize_fn: callable that returns `(finished, next_inputs)`\n",
    "        for the first iteration.\n",
    "      sample_fn: callable that takes `(time, outputs, state)`\n",
    "        and emits tensor `sample_ids`.\n",
    "      next_inputs_fn: callable that takes `(time, outputs, state, sample_ids)`\n",
    "        and emits `(finished, next_inputs, next_state)`.\n",
    "      sample_ids_shape: Either a list of integers, or a 1-D Tensor of type\n",
    "        `int32`, the shape of each value in the `sample_ids` batch. Defaults to\n",
    "        a scalar.\n",
    "      sample_ids_dtype: The dtype of the `sample_ids` tensor. Defaults to int32.\n",
    "    \"\"\"\n",
    "    self._initialize_fn = initialize_fn\n",
    "    self._sample_fn = sample_fn\n",
    "    self._next_inputs_fn = next_inputs_fn\n",
    "    self._batch_size = None\n",
    "    self._sample_ids_shape = tensor_shape.TensorShape(sample_ids_shape or [])\n",
    "    self._sample_ids_dtype = sample_ids_dtype or dtypes.int32\n"
   ]
  },
  {
   "cell_type": "markdown",
   "metadata": {},
   "source": [
    "<div style=\"direction:rtl;line-height:300%;\">\n",
    "    <font face=\"XB Zar\" size=5>\n",
    "        نقش سه تابع ذکر شده را با بررسی استفاده ی آنها در initialize و step کلاس BasicDecoder بیشتر بررسی می کنیم.\n",
    "    </font> \n",
    "</div>"
   ]
  },
  {
   "cell_type": "markdown",
   "metadata": {},
   "source": [
    "<div style=\"direction:rtl;line-height:300%;\">\n",
    "    <font face=\"XB Zar\" size=5>\n",
    "        initialize:<br/>\n",
    "        تابع initialize در BasicDecoder دو خروجی اول خود یعنی finished و initial_input را از helper می گیرد و initial_State را نیز برابر مقداری قرار می دهد که به همین نام در initializer خود BasicDecoder گرفته شده است.\n",
    "    </font> \n",
    "</div>"
   ]
  },
  {
   "cell_type": "code",
   "execution_count": 1,
   "metadata": {},
   "outputs": [],
   "source": [
    "def initialize(self, name=None):\n",
    "    \"\"\"Initialize the decoder.\n",
    "\n",
    "    Args:\n",
    "      name: Name scope for any created operations.\n",
    "\n",
    "    Returns:\n",
    "      `(finished, first_inputs, initial_state)`.\n",
    "    \"\"\"\n",
    "    return self._helper.initialize() + (self._initial_state,)"
   ]
  },
  {
   "cell_type": "markdown",
   "metadata": {},
   "source": [
    "<div style=\"direction:rtl;line-height:300%;\">\n",
    "    <font face=\"XB Zar\" size=5>\n",
    "        next_inputs:<br/>\n",
    "        همانطور که در <a href=\"#decoder_output\">اینجا</a> ذکر شد تابع step چهار خروجی دارد. BasicDecoder 3 خروجی آخر یعنی (finished, next_inputs, next_state) را با صدا زدن next_inputs در helper به دست می آورد.<br/>\n",
    "        یعنی می توانیم این سه را با نوشتن تابع next_inputs مد نظرمان و سپس ساخت یک CustomHelper به طور مستقیم کنترل کنبم\n",
    "    </font> \n",
    "</div>"
   ]
  },
  {
   "cell_type": "markdown",
   "metadata": {},
   "source": [
    "<div style=\"direction:rtl;line-height:300%;\">\n",
    "    <font face=\"XB Zar\" size=5>\n",
    "        sample:<br/>\n",
    "        outputs در خروجی step یک BasicDecoder زوج مرتبی از دو چیز است: (cell_outputs, sample_ids). cell_outputs خروجی RNN cellی است که در ورودی BasicDecoder داده می شود. smaple_ids، دیگر قسمت outputs از تابع sample در helper گرفته می شود.<br/>\n",
    "        در واقع تابع sample جایی است که ما می توانیم خروجی مورد نظرمان را تولید کنیم. ورودی های این تابع خروجی های RNN cell است.\n",
    "    </font> \n",
    "</div>"
   ]
  },
  {
   "cell_type": "code",
   "execution_count": 1,
   "metadata": {},
   "outputs": [
    {
     "ename": "SyntaxError",
     "evalue": "invalid syntax (<ipython-input-1-83d19eccd21f>, line 18)",
     "output_type": "error",
     "traceback": [
      "\u001b[1;36m  File \u001b[1;32m\"<ipython-input-1-83d19eccd21f>\"\u001b[1;36m, line \u001b[1;32m18\u001b[0m\n\u001b[1;33m    time=time, o utputs=cell_outputs, state=cell_state)\u001b[0m\n\u001b[1;37m                      ^\u001b[0m\n\u001b[1;31mSyntaxError\u001b[0m\u001b[1;31m:\u001b[0m invalid syntax\n"
     ]
    }
   ],
   "source": [
    "def step(self, time, inputs, state, name=None):\n",
    "    \"\"\"Perform a decoding step.\n",
    "\n",
    "    Args:\n",
    "    time: scalar `int32` tensor.\n",
    "    inputs: A (structure of) input tensors.\n",
    "    state: A (structure of) state tensors and TensorArrays.\n",
    "    name: Name scope for any created operations.\n",
    "\n",
    "    Returns:\n",
    "    `(outputs, next_state, next_inputs, finished)`.\n",
    "    \"\"\"\n",
    "    with ops.name_scope(name, \"BasicDecoderStep\", (time, inputs, state)):\n",
    "        cell_outputs, cell_state = self._cell(inputs, state)\n",
    "        if self._output_layer is not None:\n",
    "            cell_outputs = self._output_layer(cell_outputs)\n",
    "        sample_ids = self._helper.sample(\n",
    "            time=time, o utputs=cell_outputs, state=cell_state)\n",
    "        (finished, next_inputs, next_state) = self._helper.next_inputs(\n",
    "            time=time,\n",
    "            outputs=cell_outputs,\n",
    "            state=cell_state,\n",
    "            sample_ids=sample_ids)\n",
    "        outputs = BasicDecoderOutput(cell_outputs, sample_ids)\n",
    "        return (outputs, next_state, next_inputs, finished)\n"
   ]
  },
  {
   "cell_type": "markdown",
   "metadata": {},
   "source": [
    "<div style=\"direction:rtl;line-height:300%;\">\n",
    "    <font face=\"XB Zar\" size=5>\n",
    "        <b>BeamSearchDecoder</b><br/>\n",
    "        دیکودر دیگری که در tensorflow پیاده سازی شده BeamSearchDecoder است. تابع initializer این دیکودر به صورت زیر می باشد:\n",
    "    </font> \n",
    "</div>"
   ]
  },
  {
   "cell_type": "code",
   "execution_count": 2,
   "metadata": {},
   "outputs": [],
   "source": [
    "def __init__(self,\n",
    "    cell,\n",
    "    embedding,\n",
    "    start_tokens,\n",
    "    end_token,\n",
    "    initial_state,\n",
    "    beam_width,\n",
    "    output_layer=None,\n",
    "    length_penalty_weight=0.0,\n",
    "    coverage_penalty_weight=0.0,\n",
    "    reorder_tensor_arrays=True):\n",
    "    \"\"\"Initialize the BeamSearchDecoder.\n",
    "\n",
    "    Args:\n",
    "      cell: An `RNNCell` instance.\n",
    "      embedding: A callable that takes a vector tensor of `ids` (argmax ids),\n",
    "        or the `params` argument for `embedding_lookup`.\n",
    "      start_tokens: `int32` vector shaped `[batch_size]`, the start tokens.\n",
    "      end_token: `int32` scalar, the token that marks end of decoding.\n",
    "      initial_state: A (possibly nested tuple of...) tensors and TensorArrays.\n",
    "      beam_width:  Python integer, the number of beams.\n",
    "      output_layer: (Optional) An instance of `tf.layers.Layer`, i.e.,\n",
    "        `tf.layers.Dense`.  Optional layer to apply to the RNN output prior\n",
    "        to storing the result or sampling.\n",
    "      length_penalty_weight: Float weight to penalize length. Disabled with 0.0.\n",
    "      coverage_penalty_weight: Float weight to penalize the coverage of source\n",
    "        sentence. Disabled with 0.0.\n",
    "      reorder_tensor_arrays: If `True`, `TensorArray`s' elements within the cell\n",
    "        state will be reordered according to the beam search path. If the\n",
    "        `TensorArray` can be reordered, the stacked form will be returned.\n",
    "        Otherwise, the `TensorArray` will be returned as is. Set this flag to\n",
    "        `False` if the cell state contains `TensorArray`s that are not amenable\n",
    "        to reordering.\n",
    "\n",
    "    Raises:\n",
    "      TypeError: if `cell` is not an instance of `RNNCell`,\n",
    "        or `output_layer` is not an instance of `tf.layers.Layer`.\n",
    "      ValueError: If `start_tokens` is not a vector or\n",
    "        `end_token` is not a scalar.\n",
    "    \"\"\"\n",
    "    pass"
   ]
  },
  {
   "cell_type": "markdown",
   "metadata": {},
   "source": [
    "<div style=\"direction:rtl;line-height:300%;\">\n",
    "    <font face=\"XB Zar\" size=5>\n",
    "        initial_state به عنوان state اولیه به cell داده می شود. state در خروجی تابع initialize و step یک instance از BeamSearchDecoderState است. BeamSearchDecoderState شامل موارد زیر است:<br/>\n",
    "        <ul style=\"direction:ltr\">\n",
    "            <li>cell_state</li>\n",
    "            <li>log_probs</li>\n",
    "            <li>finished</li>\n",
    "            <li>lengths</li>\n",
    "            <li>accumulated_attention_probs</li>\n",
    "        </ul>\n",
    "        \n",
    "    </font> \n",
    "</div>"
   ]
  },
  {
   "cell_type": "markdown",
   "metadata": {},
   "source": [
    "<div style=\"direction:rtl;line-height:300%;\">\n",
    "    <font face=\"XB Zar\" size=5>\n",
    "        خروجی initial_inputs در تابع initialize این دیکودر برابر (embedding(start_tokens است. \n",
    "    </font> \n",
    "</div>"
   ]
  }
 ],
 "metadata": {
  "kernelspec": {
   "display_name": "Python 3",
   "language": "python",
   "name": "python3"
  },
  "language_info": {
   "codemirror_mode": {
    "name": "ipython",
    "version": 3
   },
   "file_extension": ".py",
   "mimetype": "text/x-python",
   "name": "python",
   "nbconvert_exporter": "python",
   "pygments_lexer": "ipython3",
   "version": "3.6.5"
  }
 },
 "nbformat": 4,
 "nbformat_minor": 2
}
